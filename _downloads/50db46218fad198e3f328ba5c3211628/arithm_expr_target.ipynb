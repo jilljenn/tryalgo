{
  "cells": [
    {
      "cell_type": "markdown",
      "metadata": {},
      "source": [
        "\n# Countdown\n"
      ]
    },
    {
      "cell_type": "code",
      "execution_count": null,
      "metadata": {
        "collapsed": false
      },
      "outputs": [],
      "source": [
        "from tryalgo.arithm_expr_target import arithm_expr_target\n\narithm_expr_target([25, 50, 75, 100, 3, 6], 952)"
      ]
    },
    {
      "cell_type": "markdown",
      "metadata": {},
      "source": [
        "Returns :code:`((((75*3)*(100+6))-50)/25)=952`.\n\nSee on our blog the [original Countdown video](https://tryalgo.org/fr/2017/03/14/le-compte-est-bon/) behind this example.\n\n"
      ]
    }
  ],
  "metadata": {
    "kernelspec": {
      "display_name": "Python 3",
      "language": "python",
      "name": "python3"
    },
    "language_info": {
      "codemirror_mode": {
        "name": "ipython",
        "version": 3
      },
      "file_extension": ".py",
      "mimetype": "text/x-python",
      "name": "python",
      "nbconvert_exporter": "python",
      "pygments_lexer": "ipython3",
      "version": "3.12.2"
    }
  },
  "nbformat": 4,
  "nbformat_minor": 0
}