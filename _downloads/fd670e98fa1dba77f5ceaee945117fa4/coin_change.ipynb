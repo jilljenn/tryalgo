{
  "cells": [
    {
      "cell_type": "markdown",
      "metadata": {},
      "source": [
        "\n# Coin change\n"
      ]
    },
    {
      "cell_type": "code",
      "execution_count": null,
      "metadata": {
        "collapsed": false
      },
      "outputs": [],
      "source": [
        "from tryalgo import coin_change\nfrom tryalgo.subsetsum import coin_change\n\n\nprint(coin_change([3, 5, 11], 29))  # True because 29 = 6 x 3 + 0 x 5 + 1 x 11"
      ]
    },
    {
      "cell_type": "markdown",
      "metadata": {},
      "source": [
        "An explanation of this code is given (in French) on our blog tryalgo.org by Cl\u00e9mence R\u00e9da:\n\n- [Rendu de monnaie, bases de programmation dynamique](https://tryalgo.org/fr/2016/12/11/rendudemonnaie/)\n\n"
      ]
    }
  ],
  "metadata": {
    "kernelspec": {
      "display_name": "Python 3",
      "language": "python",
      "name": "python3"
    },
    "language_info": {
      "codemirror_mode": {
        "name": "ipython",
        "version": 3
      },
      "file_extension": ".py",
      "mimetype": "text/x-python",
      "name": "python",
      "nbconvert_exporter": "python",
      "pygments_lexer": "ipython3",
      "version": "3.12.2"
    }
  },
  "nbformat": 4,
  "nbformat_minor": 0
}